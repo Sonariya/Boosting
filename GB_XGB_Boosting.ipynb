{
 "cells": [
  {
   "cell_type": "code",
   "execution_count": 1,
   "metadata": {
    "id": "cn_WWqzXwONG"
   },
   "outputs": [],
   "source": [
    "## importing the libraries\n",
    "import pandas as pd"
   ]
  },
  {
   "cell_type": "code",
   "execution_count": 2,
   "metadata": {
    "id": "9lYNw766wONi"
   },
   "outputs": [],
   "source": [
    "##loading the dataset\n",
    "data=pd.read_csv('hp_data.csv')"
   ]
  },
  {
   "cell_type": "code",
   "execution_count": 3,
   "metadata": {
    "id": "MM4-5vQJwONk",
    "outputId": "151ac935-dee7-42fa-833f-7308290618d5",
    "scrolled": true
   },
   "outputs": [
    {
     "data": {
      "text/html": [
       "<div>\n",
       "<style scoped>\n",
       "    .dataframe tbody tr th:only-of-type {\n",
       "        vertical-align: middle;\n",
       "    }\n",
       "\n",
       "    .dataframe tbody tr th {\n",
       "        vertical-align: top;\n",
       "    }\n",
       "\n",
       "    .dataframe thead th {\n",
       "        text-align: right;\n",
       "    }\n",
       "</style>\n",
       "<table border=\"1\" class=\"dataframe\">\n",
       "  <thead>\n",
       "    <tr style=\"text-align: right;\">\n",
       "      <th></th>\n",
       "      <th>place</th>\n",
       "      <th>built</th>\n",
       "      <th>sqft</th>\n",
       "      <th>sale</th>\n",
       "      <th>yearsOld</th>\n",
       "      <th>floor</th>\n",
       "      <th>totalFloor</th>\n",
       "      <th>bhk</th>\n",
       "      <th>price</th>\n",
       "    </tr>\n",
       "  </thead>\n",
       "  <tbody>\n",
       "    <tr>\n",
       "      <th>0</th>\n",
       "      <td>BTM Layout</td>\n",
       "      <td>Super built-up  Area</td>\n",
       "      <td>1450</td>\n",
       "      <td>Resale</td>\n",
       "      <td>5</td>\n",
       "      <td>1</td>\n",
       "      <td>4</td>\n",
       "      <td>1</td>\n",
       "      <td>6300000</td>\n",
       "    </tr>\n",
       "    <tr>\n",
       "      <th>1</th>\n",
       "      <td>Yelahanka</td>\n",
       "      <td>Super built-up  Area</td>\n",
       "      <td>2190</td>\n",
       "      <td>Resale</td>\n",
       "      <td>5</td>\n",
       "      <td>3</td>\n",
       "      <td>5</td>\n",
       "      <td>3</td>\n",
       "      <td>11500000</td>\n",
       "    </tr>\n",
       "    <tr>\n",
       "      <th>2</th>\n",
       "      <td>Whitefield</td>\n",
       "      <td>Super built-up  Area</td>\n",
       "      <td>1019</td>\n",
       "      <td>Resale</td>\n",
       "      <td>1</td>\n",
       "      <td>2</td>\n",
       "      <td>5</td>\n",
       "      <td>2</td>\n",
       "      <td>3800000</td>\n",
       "    </tr>\n",
       "    <tr>\n",
       "      <th>3</th>\n",
       "      <td>Ambalipura</td>\n",
       "      <td>Super built-up  Area</td>\n",
       "      <td>1857</td>\n",
       "      <td>Resale</td>\n",
       "      <td>15</td>\n",
       "      <td>4</td>\n",
       "      <td>5</td>\n",
       "      <td>4</td>\n",
       "      <td>10500000</td>\n",
       "    </tr>\n",
       "    <tr>\n",
       "      <th>4</th>\n",
       "      <td>Yelahanka</td>\n",
       "      <td>Super built-up  Area</td>\n",
       "      <td>2190</td>\n",
       "      <td>Resale</td>\n",
       "      <td>5</td>\n",
       "      <td>3</td>\n",
       "      <td>5</td>\n",
       "      <td>3</td>\n",
       "      <td>11500000</td>\n",
       "    </tr>\n",
       "  </tbody>\n",
       "</table>\n",
       "</div>"
      ],
      "text/plain": [
       "        place                 built  sqft    sale  yearsOld  floor  \\\n",
       "0  BTM Layout  Super built-up  Area  1450  Resale         5      1   \n",
       "1   Yelahanka  Super built-up  Area  2190  Resale         5      3   \n",
       "2  Whitefield  Super built-up  Area  1019  Resale         1      2   \n",
       "3  Ambalipura  Super built-up  Area  1857  Resale        15      4   \n",
       "4   Yelahanka  Super built-up  Area  2190  Resale         5      3   \n",
       "\n",
       "   totalFloor  bhk     price  \n",
       "0           4    1   6300000  \n",
       "1           5    3  11500000  \n",
       "2           5    2   3800000  \n",
       "3           5    4  10500000  \n",
       "4           5    3  11500000  "
      ]
     },
     "execution_count": 3,
     "metadata": {},
     "output_type": "execute_result"
    }
   ],
   "source": [
    "data.head()"
   ]
  },
  {
   "cell_type": "code",
   "execution_count": 4,
   "metadata": {},
   "outputs": [
    {
     "data": {
      "text/plain": [
       "array(['Resale'], dtype=object)"
      ]
     },
     "execution_count": 4,
     "metadata": {},
     "output_type": "execute_result"
    }
   ],
   "source": [
    "data.sale.unique() ## constant feature"
   ]
  },
  {
   "cell_type": "code",
   "execution_count": 5,
   "metadata": {
    "id": "-5_vulIqwONp",
    "outputId": "8f0aa534-27ea-42db-fc9b-8e9f8053a1c5"
   },
   "outputs": [
    {
     "data": {
      "text/plain": [
       "Devarabeesana Halli         368\n",
       "KR Puram                    358\n",
       "BTM Layout                  356\n",
       "Abbaiah Reddy Layout        352\n",
       "Electronics City Phase 1    351\n",
       "Ambalipura                  340\n",
       "Yelahanka                   337\n",
       "Whitefield                  327\n",
       "Subramanyapura              323\n",
       "Yelachenahalli              321\n",
       "Sarakki Nagar                18\n",
       "Malleshwaram                 17\n",
       "Gunjur                       12\n",
       "Frazer Town                  11\n",
       "Rajaji Nagar                  9\n",
       "Name: place, dtype: int64"
      ]
     },
     "execution_count": 5,
     "metadata": {},
     "output_type": "execute_result"
    }
   ],
   "source": [
    "## Data preprocessing\n",
    "## reducing the labels present in the place\n",
    "data.place.value_counts()"
   ]
  },
  {
   "cell_type": "code",
   "execution_count": 6,
   "metadata": {
    "id": "2cRrG8QvwONr"
   },
   "outputs": [],
   "source": [
    "data.loc[data['place']=='Devarabeesana Halli','place']='Phase1'\n",
    "data.loc[data['place']=='KR Puram','place']='Phase1'\n",
    "data.loc[data['place']=='BTM Layout','place']='Phase1'\n",
    "data.loc[data['place']=='Abbaiah Reddy Layout','place']='Phase1'\n",
    "data.loc[data['place']=='Electronics City Phase 1','place']='Phase1'"
   ]
  },
  {
   "cell_type": "code",
   "execution_count": 7,
   "metadata": {
    "id": "arFSxOwEwONt",
    "outputId": "27138f2b-936e-471e-a49d-3b20a3afafc9"
   },
   "outputs": [
    {
     "data": {
      "text/plain": [
       "Phase1            1785\n",
       "Ambalipura         340\n",
       "Yelahanka          337\n",
       "Whitefield         327\n",
       "Subramanyapura     323\n",
       "Yelachenahalli     321\n",
       "Sarakki Nagar       18\n",
       "Malleshwaram        17\n",
       "Gunjur              12\n",
       "Frazer Town         11\n",
       "Rajaji Nagar         9\n",
       "Name: place, dtype: int64"
      ]
     },
     "execution_count": 7,
     "metadata": {},
     "output_type": "execute_result"
    }
   ],
   "source": [
    "data.place.value_counts()"
   ]
  },
  {
   "cell_type": "code",
   "execution_count": 8,
   "metadata": {
    "id": "khOUQiXzwONv"
   },
   "outputs": [],
   "source": [
    "data.loc[data['place']=='Ambalipura','place']='Phase2'\n",
    "data.loc[data['place']=='Yelahanka','place']='Phase2'\n",
    "data.loc[data['place']=='Whitefield','place']='Phase2'\n",
    "data.loc[data['place']=='Subramanyapura','place']='Phase2'\n",
    "data.loc[data['place']=='Yelachenahalli','place']='Phase2'"
   ]
  },
  {
   "cell_type": "code",
   "execution_count": 9,
   "metadata": {
    "id": "Yba5nkKKwONw"
   },
   "outputs": [],
   "source": [
    "data.loc[data['place']=='Sarakki Nagar','place']='Phase3'\n",
    "data.loc[data['place']=='Malleshwaram','place']='Phase3'\n",
    "data.loc[data['place']=='Gunjur','place']='Phase3'\n",
    "data.loc[data['place']=='Frazer Town','place']='Phase3'\n",
    "data.loc[data['place']=='Rajaji Nagar','place']='Phase3'"
   ]
  },
  {
   "cell_type": "code",
   "execution_count": 10,
   "metadata": {
    "id": "fzFtoGDFwONy",
    "outputId": "812d760c-cf24-4a4b-d66a-3d877dba0768"
   },
   "outputs": [
    {
     "data": {
      "text/plain": [
       "Phase1    1785\n",
       "Phase2    1648\n",
       "Phase3      67\n",
       "Name: place, dtype: int64"
      ]
     },
     "execution_count": 10,
     "metadata": {},
     "output_type": "execute_result"
    }
   ],
   "source": [
    "data.place.value_counts()"
   ]
  },
  {
   "cell_type": "code",
   "execution_count": 10,
   "metadata": {
    "id": "dxdg_MUlwON0"
   },
   "outputs": [],
   "source": [
    "## conversion into numerical \n",
    "data.loc[data['place']=='Phase1','place']=1\n",
    "data.loc[data['place']=='Phase2','place']=2\n",
    "data.loc[data['place']=='Phase3','place']=3"
   ]
  },
  {
   "cell_type": "code",
   "execution_count": 12,
   "metadata": {
    "id": "yaK8R1lRwON1",
    "outputId": "a4c1dc4f-bfc5-47a2-a36c-22f3238bf885"
   },
   "outputs": [
    {
     "data": {
      "text/plain": [
       "1    1785\n",
       "2    1648\n",
       "3      67\n",
       "Name: place, dtype: int64"
      ]
     },
     "execution_count": 12,
     "metadata": {},
     "output_type": "execute_result"
    }
   ],
   "source": [
    "data.place.value_counts()"
   ]
  },
  {
   "cell_type": "code",
   "execution_count": 13,
   "metadata": {
    "id": "XG7WXl7WwON3",
    "outputId": "60c64e87-9c67-4ede-9555-3ba4a6711bfd"
   },
   "outputs": [
    {
     "data": {
      "text/plain": [
       "Super built-up  Area    3148\n",
       "Built-up  Area           352\n",
       "Name: built, dtype: int64"
      ]
     },
     "execution_count": 13,
     "metadata": {},
     "output_type": "execute_result"
    }
   ],
   "source": [
    "## preprocessing built\n",
    "data.built.value_counts()"
   ]
  },
  {
   "cell_type": "code",
   "execution_count": 11,
   "metadata": {
    "id": "CS8qkjIVwON5"
   },
   "outputs": [],
   "source": [
    "data.loc[data['built']=='Super built-up  Area','built']=1\n",
    "data.loc[data['built']=='Built-up  Area','built']=0"
   ]
  },
  {
   "cell_type": "code",
   "execution_count": 12,
   "metadata": {
    "id": "4-xa3z7OwON7",
    "outputId": "689ddeb0-7464-4afb-d6b8-b4fb7a404914",
    "scrolled": true
   },
   "outputs": [
    {
     "data": {
      "text/plain": [
       "1    3148\n",
       "0     352\n",
       "Name: built, dtype: int64"
      ]
     },
     "execution_count": 12,
     "metadata": {},
     "output_type": "execute_result"
    }
   ],
   "source": [
    "data.built.value_counts()"
   ]
  },
  {
   "cell_type": "code",
   "execution_count": 13,
   "metadata": {
    "id": "etmS12n-wON8",
    "outputId": "c44a96da-26d4-4e4e-f5dd-52a8631231e3"
   },
   "outputs": [
    {
     "data": {
      "text/plain": [
       "Resale    3500\n",
       "Name: sale, dtype: int64"
      ]
     },
     "execution_count": 13,
     "metadata": {},
     "output_type": "execute_result"
    }
   ],
   "source": [
    "## preprocessing sale\n",
    "data.sale.value_counts()"
   ]
  },
  {
   "cell_type": "code",
   "execution_count": 14,
   "metadata": {
    "id": "0Xpo8TCKwON-"
   },
   "outputs": [],
   "source": [
    "## creating X and y\n",
    "X=data.loc[:,['place', 'built', 'sqft','yearsOld', 'floor', 'totalFloor',\n",
    "       'bhk']]\n",
    "y=data.price"
   ]
  },
  {
   "cell_type": "code",
   "execution_count": 18,
   "metadata": {},
   "outputs": [
    {
     "data": {
      "text/html": [
       "<div>\n",
       "<style scoped>\n",
       "    .dataframe tbody tr th:only-of-type {\n",
       "        vertical-align: middle;\n",
       "    }\n",
       "\n",
       "    .dataframe tbody tr th {\n",
       "        vertical-align: top;\n",
       "    }\n",
       "\n",
       "    .dataframe thead th {\n",
       "        text-align: right;\n",
       "    }\n",
       "</style>\n",
       "<table border=\"1\" class=\"dataframe\">\n",
       "  <thead>\n",
       "    <tr style=\"text-align: right;\">\n",
       "      <th></th>\n",
       "      <th>place</th>\n",
       "      <th>built</th>\n",
       "      <th>sqft</th>\n",
       "      <th>yearsOld</th>\n",
       "      <th>floor</th>\n",
       "      <th>totalFloor</th>\n",
       "      <th>bhk</th>\n",
       "    </tr>\n",
       "  </thead>\n",
       "  <tbody>\n",
       "    <tr>\n",
       "      <th>0</th>\n",
       "      <td>1</td>\n",
       "      <td>1</td>\n",
       "      <td>1450</td>\n",
       "      <td>5</td>\n",
       "      <td>1</td>\n",
       "      <td>4</td>\n",
       "      <td>1</td>\n",
       "    </tr>\n",
       "    <tr>\n",
       "      <th>1</th>\n",
       "      <td>2</td>\n",
       "      <td>1</td>\n",
       "      <td>2190</td>\n",
       "      <td>5</td>\n",
       "      <td>3</td>\n",
       "      <td>5</td>\n",
       "      <td>3</td>\n",
       "    </tr>\n",
       "    <tr>\n",
       "      <th>2</th>\n",
       "      <td>2</td>\n",
       "      <td>1</td>\n",
       "      <td>1019</td>\n",
       "      <td>1</td>\n",
       "      <td>2</td>\n",
       "      <td>5</td>\n",
       "      <td>2</td>\n",
       "    </tr>\n",
       "    <tr>\n",
       "      <th>3</th>\n",
       "      <td>2</td>\n",
       "      <td>1</td>\n",
       "      <td>1857</td>\n",
       "      <td>15</td>\n",
       "      <td>4</td>\n",
       "      <td>5</td>\n",
       "      <td>4</td>\n",
       "    </tr>\n",
       "    <tr>\n",
       "      <th>4</th>\n",
       "      <td>2</td>\n",
       "      <td>1</td>\n",
       "      <td>2190</td>\n",
       "      <td>5</td>\n",
       "      <td>3</td>\n",
       "      <td>5</td>\n",
       "      <td>3</td>\n",
       "    </tr>\n",
       "    <tr>\n",
       "      <th>...</th>\n",
       "      <td>...</td>\n",
       "      <td>...</td>\n",
       "      <td>...</td>\n",
       "      <td>...</td>\n",
       "      <td>...</td>\n",
       "      <td>...</td>\n",
       "      <td>...</td>\n",
       "    </tr>\n",
       "    <tr>\n",
       "      <th>3495</th>\n",
       "      <td>2</td>\n",
       "      <td>1</td>\n",
       "      <td>1019</td>\n",
       "      <td>1</td>\n",
       "      <td>2</td>\n",
       "      <td>5</td>\n",
       "      <td>2</td>\n",
       "    </tr>\n",
       "    <tr>\n",
       "      <th>3496</th>\n",
       "      <td>1</td>\n",
       "      <td>1</td>\n",
       "      <td>1450</td>\n",
       "      <td>5</td>\n",
       "      <td>1</td>\n",
       "      <td>4</td>\n",
       "      <td>1</td>\n",
       "    </tr>\n",
       "    <tr>\n",
       "      <th>3497</th>\n",
       "      <td>2</td>\n",
       "      <td>1</td>\n",
       "      <td>1330</td>\n",
       "      <td>10</td>\n",
       "      <td>1</td>\n",
       "      <td>4</td>\n",
       "      <td>1</td>\n",
       "    </tr>\n",
       "    <tr>\n",
       "      <th>3498</th>\n",
       "      <td>1</td>\n",
       "      <td>0</td>\n",
       "      <td>1200</td>\n",
       "      <td>10</td>\n",
       "      <td>1</td>\n",
       "      <td>4</td>\n",
       "      <td>1</td>\n",
       "    </tr>\n",
       "    <tr>\n",
       "      <th>3499</th>\n",
       "      <td>2</td>\n",
       "      <td>1</td>\n",
       "      <td>1019</td>\n",
       "      <td>1</td>\n",
       "      <td>2</td>\n",
       "      <td>5</td>\n",
       "      <td>2</td>\n",
       "    </tr>\n",
       "  </tbody>\n",
       "</table>\n",
       "<p>3500 rows × 7 columns</p>\n",
       "</div>"
      ],
      "text/plain": [
       "     place built  sqft  yearsOld  floor  totalFloor  bhk\n",
       "0        1     1  1450         5      1           4    1\n",
       "1        2     1  2190         5      3           5    3\n",
       "2        2     1  1019         1      2           5    2\n",
       "3        2     1  1857        15      4           5    4\n",
       "4        2     1  2190         5      3           5    3\n",
       "...    ...   ...   ...       ...    ...         ...  ...\n",
       "3495     2     1  1019         1      2           5    2\n",
       "3496     1     1  1450         5      1           4    1\n",
       "3497     2     1  1330        10      1           4    1\n",
       "3498     1     0  1200        10      1           4    1\n",
       "3499     2     1  1019         1      2           5    2\n",
       "\n",
       "[3500 rows x 7 columns]"
      ]
     },
     "execution_count": 18,
     "metadata": {},
     "output_type": "execute_result"
    }
   ],
   "source": [
    "X"
   ]
  },
  {
   "cell_type": "code",
   "execution_count": 19,
   "metadata": {
    "id": "iCls7uWgwON_",
    "outputId": "510d783a-75ae-41fb-c3c2-9104eae95dea"
   },
   "outputs": [
    {
     "data": {
      "text/plain": [
       "0        6300000\n",
       "1       11500000\n",
       "2        3800000\n",
       "3       10500000\n",
       "4       11500000\n",
       "          ...   \n",
       "3495     3800000\n",
       "3496     6300000\n",
       "3497     7350000\n",
       "3498     4800000\n",
       "3499     3800000\n",
       "Name: price, Length: 3500, dtype: int64"
      ]
     },
     "execution_count": 19,
     "metadata": {},
     "output_type": "execute_result"
    }
   ],
   "source": [
    "y"
   ]
  },
  {
   "cell_type": "code",
   "execution_count": 15,
   "metadata": {
    "id": "hWj-_FtvwOOB"
   },
   "outputs": [],
   "source": [
    "## creating training and testing data\n",
    "from sklearn.model_selection import train_test_split\n",
    "X_train,X_test,y_train,y_test=train_test_split(X,y,random_state=3)"
   ]
  },
  {
   "cell_type": "code",
   "execution_count": 21,
   "metadata": {
    "id": "4urIXXelwOOD"
   },
   "outputs": [],
   "source": [
    "## importing the model library\n",
    "from sklearn.ensemble import GradientBoostingRegressor\n",
    "gbm=GradientBoostingRegressor() ## object creation\n",
    "gbm.fit(X_train,y_train) ## fitting the data\n",
    "y_gbm=gbm.predict(X_test)\n"
   ]
  },
  {
   "cell_type": "code",
   "execution_count": 22,
   "metadata": {
    "id": "GK_yuUfBwOOE",
    "outputId": "55b4f9b3-4746-499d-a809-2bc3783ffb99"
   },
   "outputs": [
    {
     "data": {
      "text/plain": [
       "0.9999815100751761"
      ]
     },
     "execution_count": 22,
     "metadata": {},
     "output_type": "execute_result"
    }
   ],
   "source": [
    "## evaluatin the model\n",
    "from sklearn.metrics import r2_score\n",
    "r2_score(y_test,y_gbm)"
   ]
  },
  {
   "cell_type": "code",
   "execution_count": 23,
   "metadata": {
    "id": "wjvBpiuzwOOH",
    "outputId": "54cf0d4f-59d4-4de7-de73-46377027f994"
   },
   "outputs": [
    {
     "data": {
      "text/plain": [
       "0.989919261822376"
      ]
     },
     "execution_count": 23,
     "metadata": {},
     "output_type": "execute_result"
    }
   ],
   "source": [
    "adj_r2_score=1-(1-0.99)*(875-1)/(875-7-1)\n",
    "adj_r2_score"
   ]
  },
  {
   "cell_type": "code",
   "execution_count": 24,
   "metadata": {
    "id": "XQOtrZXbwOOJ",
    "outputId": "3acd3b4b-c137-411d-f32d-6312c01a59fa"
   },
   "outputs": [
    {
     "data": {
      "text/plain": [
       "(875, 7)"
      ]
     },
     "execution_count": 24,
     "metadata": {},
     "output_type": "execute_result"
    }
   ],
   "source": [
    "X_test.shape"
   ]
  },
  {
   "cell_type": "markdown",
   "metadata": {},
   "source": [
    "## Random Forest Implementation"
   ]
  },
  {
   "cell_type": "code",
   "execution_count": 16,
   "metadata": {},
   "outputs": [
    {
     "data": {
      "text/plain": [
       "RandomForestRegressor()"
      ]
     },
     "execution_count": 16,
     "metadata": {},
     "output_type": "execute_result"
    }
   ],
   "source": [
    "from sklearn.ensemble import RandomForestRegressor\n",
    "\n",
    "rf_rgr = RandomForestRegressor(n_estimators=100)\n",
    "rf_rgr.fit(X_train,y_train)"
   ]
  },
  {
   "cell_type": "code",
   "execution_count": 17,
   "metadata": {},
   "outputs": [],
   "source": [
    "y_predict=rf_rgr.predict(X_test)"
   ]
  },
  {
   "cell_type": "code",
   "execution_count": 18,
   "metadata": {},
   "outputs": [
    {
     "data": {
      "text/plain": [
       "1.0"
      ]
     },
     "execution_count": 18,
     "metadata": {},
     "output_type": "execute_result"
    }
   ],
   "source": [
    "## Model Evaluation\n",
    "##prediciton on training data\n",
    "y_train_predict=rf_rgr.predict(X_train)\n",
    "from sklearn.metrics import r2_score\n",
    "train_score=r2_score(y_train,y_train_predict)\n",
    "train_score"
   ]
  },
  {
   "cell_type": "code",
   "execution_count": 19,
   "metadata": {},
   "outputs": [
    {
     "data": {
      "text/plain": [
       "1.0"
      ]
     },
     "execution_count": 19,
     "metadata": {},
     "output_type": "execute_result"
    }
   ],
   "source": [
    "test_score=r2_score(y_test,y_predict)\n",
    "test_score"
   ]
  },
  {
   "cell_type": "code",
   "execution_count": 20,
   "metadata": {},
   "outputs": [
    {
     "data": {
      "text/plain": [
       "((2625, 7), (875, 7))"
      ]
     },
     "execution_count": 20,
     "metadata": {},
     "output_type": "execute_result"
    }
   ],
   "source": [
    "X_train.shape,X_test.shape"
   ]
  },
  {
   "cell_type": "code",
   "execution_count": 21,
   "metadata": {},
   "outputs": [
    {
     "data": {
      "text/plain": [
       "1.0"
      ]
     },
     "execution_count": 21,
     "metadata": {},
     "output_type": "execute_result"
    }
   ],
   "source": [
    "## CHecking adjusted r2 score\n",
    "train_adjusted_r2 = 1-(1-1)*(2625-1)/(2625-7-1)\n",
    "train_adjusted_r2"
   ]
  },
  {
   "cell_type": "code",
   "execution_count": 22,
   "metadata": {},
   "outputs": [
    {
     "data": {
      "text/plain": [
       "1.0"
      ]
     },
     "execution_count": 22,
     "metadata": {},
     "output_type": "execute_result"
    }
   ],
   "source": [
    "test_adjusted_r2= 1-(1-1.0)*(875-1)/(875-7-1)\n",
    "test_adjusted_r2"
   ]
  },
  {
   "cell_type": "code",
   "execution_count": 26,
   "metadata": {
    "id": "U42bzzuwwOOL",
    "outputId": "d0cc0023-1a3b-4f84-f51c-9cd74c471148"
   },
   "outputs": [
    {
     "name": "stdout",
     "output_type": "stream",
     "text": [
      "Collecting xgboost\n",
      "  Downloading xgboost-1.4.2-py3-none-win_amd64.whl (97.8 MB)\n",
      "Requirement already satisfied: scipy in c:\\programdata\\anaconda3\\lib\\site-packages (from xgboost) (1.5.2)\n",
      "Requirement already satisfied: numpy in c:\\programdata\\anaconda3\\lib\\site-packages (from xgboost) (1.19.2)\n",
      "Installing collected packages: xgboost\n",
      "Successfully installed xgboost-1.4.2\n"
     ]
    }
   ],
   "source": [
    "## Installing XGB library\n",
    "!pip3 install xgboost"
   ]
  },
  {
   "cell_type": "code",
   "execution_count": 27,
   "metadata": {
    "id": "aWwKD7ULwOON"
   },
   "outputs": [],
   "source": [
    "import xgboost "
   ]
  },
  {
   "cell_type": "code",
   "execution_count": 37,
   "metadata": {},
   "outputs": [
    {
     "name": "stdout",
     "output_type": "stream",
     "text": [
      "<class 'pandas.core.frame.DataFrame'>\n",
      "Int64Index: 2625 entries, 1958 to 1898\n",
      "Data columns (total 7 columns):\n",
      " #   Column      Non-Null Count  Dtype \n",
      "---  ------      --------------  ----- \n",
      " 0   place       2625 non-null   object\n",
      " 1   built       2625 non-null   object\n",
      " 2   sqft        2625 non-null   int64 \n",
      " 3   yearsOld    2625 non-null   int64 \n",
      " 4   floor       2625 non-null   int64 \n",
      " 5   totalFloor  2625 non-null   int64 \n",
      " 6   bhk         2625 non-null   int64 \n",
      "dtypes: int64(5), object(2)\n",
      "memory usage: 164.1+ KB\n"
     ]
    }
   ],
   "source": [
    "X_train.info()"
   ]
  },
  {
   "cell_type": "code",
   "execution_count": null,
   "metadata": {},
   "outputs": [],
   "source": [
    "X_train.place=X_train.place.astype('int64')\n",
    "X_train.built=X_train.built.astype('int64')"
   ]
  },
  {
   "cell_type": "code",
   "execution_count": null,
   "metadata": {},
   "outputs": [],
   "source": [
    "X_test.place=X_test.place.astype('int64')\n",
    "X_test.built=X_test.built.astype('int64')"
   ]
  },
  {
   "cell_type": "code",
   "execution_count": 55,
   "metadata": {
    "id": "xlIzGzhBwOOP"
   },
   "outputs": [],
   "source": [
    "## model creation\n",
    "from xgboost import XGBRegressor\n",
    "xgb_r=XGBRegressor()\n",
    "xgb_r.fit(X_train,y_train)\n",
    "y_hat=xgb_r.predict(X_test)\n"
   ]
  },
  {
   "cell_type": "code",
   "execution_count": 56,
   "metadata": {
    "id": "qJJ5BdfHwOOQ",
    "outputId": "21f19876-f563-4032-db1f-ac49ac4665f9"
   },
   "outputs": [
    {
     "data": {
      "text/plain": [
       "0.9999999999999782"
      ]
     },
     "execution_count": 56,
     "metadata": {},
     "output_type": "execute_result"
    }
   ],
   "source": [
    "r2_score(y_test,y_hat)"
   ]
  },
  {
   "cell_type": "code",
   "execution_count": null,
   "metadata": {
    "id": "eFRekNDewOOR",
    "outputId": "919a221a-6a78-4934-fc03-1aa196cea96e"
   },
   "outputs": [
    {
     "name": "stdout",
     "output_type": "stream",
     "text": [
      "<class 'pandas.core.frame.DataFrame'>\n",
      "Int64Index: 2625 entries, 1958 to 1898\n",
      "Data columns (total 7 columns):\n",
      " #   Column      Non-Null Count  Dtype \n",
      "---  ------      --------------  ----- \n",
      " 0   place       2625 non-null   object\n",
      " 1   built       2625 non-null   object\n",
      " 2   sqft        2625 non-null   int64 \n",
      " 3   yearsOld    2625 non-null   int64 \n",
      " 4   floor       2625 non-null   int64 \n",
      " 5   totalFloor  2625 non-null   int64 \n",
      " 6   bhk         2625 non-null   int64 \n",
      "dtypes: int64(5), object(2)\n",
      "memory usage: 164.1+ KB\n"
     ]
    }
   ],
   "source": [
    "X_train.info()"
   ]
  },
  {
   "cell_type": "code",
   "execution_count": 53,
   "metadata": {
    "id": "XSH7mysqwOOT",
    "outputId": "528cdd3b-dbec-46f9-ffac-78a879d2c5b8"
   },
   "outputs": [],
   "source": []
  },
  {
   "cell_type": "code",
   "execution_count": null,
   "metadata": {
    "collapsed": true,
    "id": "PlUbpr9LwOOU",
    "outputId": "df2ce4c8-9c25-45bd-b8dc-608e03d3e7eb"
   },
   "outputs": [
    {
     "name": "stdout",
     "output_type": "stream",
     "text": [
      "<class 'pandas.core.frame.DataFrame'>\n",
      "Int64Index: 2625 entries, 1958 to 1898\n",
      "Data columns (total 7 columns):\n",
      " #   Column      Non-Null Count  Dtype\n",
      "---  ------      --------------  -----\n",
      " 0   place       2625 non-null   int64\n",
      " 1   built       2625 non-null   int64\n",
      " 2   sqft        2625 non-null   int64\n",
      " 3   yearsOld    2625 non-null   int64\n",
      " 4   floor       2625 non-null   int64\n",
      " 5   totalFloor  2625 non-null   int64\n",
      " 6   bhk         2625 non-null   int64\n",
      "dtypes: int64(7)\n",
      "memory usage: 164.1 KB\n"
     ]
    }
   ],
   "source": [
    "X_train.info()"
   ]
  },
  {
   "cell_type": "code",
   "execution_count": 20,
   "metadata": {
    "id": "a8UD5EcYwOOW",
    "outputId": "0ff0b635-aa1f-4fbd-c46f-dfc9ce119d36"
   },
   "outputs": [
    {
     "name": "stdout",
     "output_type": "stream",
     "text": [
      "<class 'pandas.core.frame.DataFrame'>\n",
      "Int64Index: 875 entries, 439 to 2258\n",
      "Data columns (total 7 columns):\n",
      " #   Column      Non-Null Count  Dtype \n",
      "---  ------      --------------  ----- \n",
      " 0   place       875 non-null    object\n",
      " 1   built       875 non-null    object\n",
      " 2   sqft        875 non-null    int64 \n",
      " 3   yearsOld    875 non-null    int64 \n",
      " 4   floor       875 non-null    int64 \n",
      " 5   totalFloor  875 non-null    int64 \n",
      " 6   bhk         875 non-null    int64 \n",
      "dtypes: int64(5), object(2)\n",
      "memory usage: 54.7+ KB\n"
     ]
    }
   ],
   "source": [
    "X_test.info()"
   ]
  },
  {
   "cell_type": "code",
   "execution_count": 54,
   "metadata": {
    "id": "3OZ0gDZvwOOX"
   },
   "outputs": [],
   "source": []
  },
  {
   "cell_type": "code",
   "execution_count": null,
   "metadata": {
    "collapsed": true,
    "id": "n0OK36thwOOY",
    "outputId": "ba19ea6d-d5c2-4f91-9d12-d6a0794477ac"
   },
   "outputs": [
    {
     "name": "stdout",
     "output_type": "stream",
     "text": [
      "<class 'pandas.core.frame.DataFrame'>\n",
      "Int64Index: 875 entries, 439 to 2258\n",
      "Data columns (total 7 columns):\n",
      " #   Column      Non-Null Count  Dtype\n",
      "---  ------      --------------  -----\n",
      " 0   place       875 non-null    int64\n",
      " 1   built       875 non-null    int64\n",
      " 2   sqft        875 non-null    int64\n",
      " 3   yearsOld    875 non-null    int64\n",
      " 4   floor       875 non-null    int64\n",
      " 5   totalFloor  875 non-null    int64\n",
      " 6   bhk         875 non-null    int64\n",
      "dtypes: int64(7)\n",
      "memory usage: 54.7 KB\n"
     ]
    }
   ],
   "source": [
    "X_test.info()"
   ]
  }
 ],
 "metadata": {
  "colab": {
   "name": "GB_XGB_Boosting_12022021.ipynb",
   "provenance": []
  },
  "kernelspec": {
   "display_name": "Python 3",
   "language": "python",
   "name": "python3"
  },
  "language_info": {
   "codemirror_mode": {
    "name": "ipython",
    "version": 3
   },
   "file_extension": ".py",
   "mimetype": "text/x-python",
   "name": "python",
   "nbconvert_exporter": "python",
   "pygments_lexer": "ipython3",
   "version": "3.8.5"
  }
 },
 "nbformat": 4,
 "nbformat_minor": 1
}
